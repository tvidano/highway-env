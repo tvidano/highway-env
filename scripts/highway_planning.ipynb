{
 "cells": [
  {
   "cell_type": "markdown",
   "metadata": {
    "colab_type": "text",
    "id": "QKWvMXWMBEJA"
   },
   "source": [
    "# Behavioural Planning for Autonomous Highway Driving\n",
    "\n",
    "We plan a trajectory using the _Optimistic Planning for Deterministic systems_ ([OPD](https://hal.inria.fr/hal-00830182)) algorithm.\n",
    "\n",
    "##  Setup\n",
    "\n",
    "We first import useful modules for the environment, agent, and visualization."
   ]
  },
  {
   "cell_type": "code",
   "execution_count": 3,
   "metadata": {
    "colab": {},
    "colab_type": "code",
    "id": "s-ghXis6A_md"
   },
   "outputs": [
    {
     "ename": "ModuleNotFoundError",
     "evalue": "No module named 'highway_env'",
     "output_type": "error",
     "traceback": [
      "\u001b[0;31m---------------------------------------------------------------------------\u001b[0m",
      "\u001b[0;31mModuleNotFoundError\u001b[0m                       Traceback (most recent call last)",
      "\u001b[0;32m<ipython-input-3-474f32d05327>\u001b[0m in \u001b[0;36m<module>\u001b[0;34m\u001b[0m\n\u001b[1;32m      6\u001b[0m \u001b[0mlocal_highway_env\u001b[0m \u001b[0;34m=\u001b[0m \u001b[0mop\u001b[0m\u001b[0;34m.\u001b[0m\u001b[0mjoin\u001b[0m\u001b[0;34m(\u001b[0m\u001b[0;34m\"~\"\u001b[0m\u001b[0;34m,\u001b[0m\u001b[0;34m\"Documents\"\u001b[0m\u001b[0;34m,\u001b[0m\u001b[0;34m\"Python_files\"\u001b[0m\u001b[0;34m,\u001b[0m\u001b[0;34m\"highway-env\"\u001b[0m\u001b[0;34m)\u001b[0m\u001b[0;34m\u001b[0m\u001b[0;34m\u001b[0m\u001b[0m\n\u001b[1;32m      7\u001b[0m \u001b[0msys\u001b[0m\u001b[0;34m.\u001b[0m\u001b[0mpath\u001b[0m\u001b[0;34m.\u001b[0m\u001b[0minsert\u001b[0m\u001b[0;34m(\u001b[0m\u001b[0;36m1\u001b[0m\u001b[0;34m,\u001b[0m \u001b[0mlocal_highway_env\u001b[0m\u001b[0;34m)\u001b[0m\u001b[0;34m\u001b[0m\u001b[0;34m\u001b[0m\u001b[0m\n\u001b[0;32m----> 8\u001b[0;31m \u001b[0;32mimport\u001b[0m \u001b[0mhighway_env\u001b[0m\u001b[0;34m\u001b[0m\u001b[0;34m\u001b[0m\u001b[0m\n\u001b[0m\u001b[1;32m      9\u001b[0m \u001b[0;34m\u001b[0m\u001b[0m\n\u001b[1;32m     10\u001b[0m \u001b[0;31m# Agent\u001b[0m\u001b[0;34m\u001b[0m\u001b[0;34m\u001b[0m\u001b[0;34m\u001b[0m\u001b[0m\n",
      "\u001b[0;31mModuleNotFoundError\u001b[0m: No module named 'highway_env'"
     ]
    }
   ],
   "source": [
    "# Environment\n",
    "#!pip install highway-env\n",
    "import gym\n",
    "import sys\n",
    "import os.path as op\n",
    "local_highway_env = \"~/Documents/Python_files/highway-env\"\n",
    "sys.path.insert(1, local_highway_env)\n",
    "import highway_env\n",
    "\n",
    "# Agent\n",
    "#!pip install git+https://github.com/eleurent/rl-agents#egg=rl-agents\n",
    "from rl_agents.agents.common.factory import agent_factory\n",
    "\n",
    "# Visualisation\n",
    "from tqdm.notebook import trange\n",
    "#!git clone https://github.com/eleurent/highway-env.git\n",
    "#!pip install gym pyvirtualdisplay\n",
    "#!apt-get install -y xvfb python-opengl ffmpeg\n",
    "sys.path.insert(0, './highway-env/scripts/')\n",
    "from utils import record_videos, show_videos, capture_intermediate_frames\n"
   ]
  },
  {
   "cell_type": "markdown",
   "metadata": {
    "colab_type": "text",
    "id": "oi1SV025BXhB"
   },
   "source": [
    "## Run an episode"
   ]
  },
  {
   "cell_type": "code",
   "execution_count": null,
   "metadata": {
    "colab": {},
    "colab_type": "code",
    "id": "bgNDDWwqCj8l"
   },
   "outputs": [],
   "source": [
    "# Make environment\n",
    "env = gym.make(\"highway-v0\")\n",
    "env = record_videos(env)\n",
    "obs, done = env.reset(), False\n",
    "capture_intermediate_frames(env)\n",
    "\n",
    "# Make agent\n",
    "agent_config = {\n",
    "    \"__class__\": \"<class 'rl_agents.agents.tree_search.deterministic.DeterministicPlannerAgent'>\",\n",
    "    \"env_preprocessors\": [{\"method\":\"simplify\"}],\n",
    "    \"budget\": 50,\n",
    "    \"gamma\": 0.7,\n",
    "}\n",
    "agent = agent_factory(env, agent_config)\n",
    "\n",
    "# Run episode\n",
    "for step in trange(env.unwrapped.config[\"duration\"], desc=\"Running...\"):\n",
    "    action = agent.act(obs)\n",
    "    obs, reward, done, info = env.step(action)\n",
    "    \n",
    "env.close()\n",
    "show_videos()"
   ]
  }
 ],
 "metadata": {
  "colab": {
   "name": "highway-planning.ipynb",
   "provenance": [],
   "version": "0.3.2"
  },
  "kernelspec": {
   "display_name": "Python 3",
   "language": "python",
   "name": "python3"
  },
  "language_info": {
   "codemirror_mode": {
    "name": "ipython",
    "version": 3
   },
   "file_extension": ".py",
   "mimetype": "text/x-python",
   "name": "python",
   "nbconvert_exporter": "python",
   "pygments_lexer": "ipython3",
   "version": "3.9.4"
  },
  "pycharm": {
   "stem_cell": {
    "cell_type": "raw",
    "metadata": {
     "collapsed": false
    },
    "source": []
   }
  }
 },
 "nbformat": 4,
 "nbformat_minor": 0
}
