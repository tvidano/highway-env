{
 "cells": [
  {
   "cell_type": "code",
   "execution_count": 1,
   "id": "045c1758",
   "metadata": {},
   "outputs": [],
   "source": [
    "# Environment\n",
    "import gym\n",
    "import sys"
   ]
  },
  {
   "cell_type": "code",
   "execution_count": 2,
   "id": "b449c99c",
   "metadata": {},
   "outputs": [],
   "source": [
    "# Models and computation\n",
    "import torch\n",
    "import torch.nn as nn\n",
    "import torch.nn.functional as F\n",
    "import numpy as np\n",
    "from collections import namedtuple\n",
    "from stable_baselines3.common.env_checker import check_env\n",
    "from stable_baselines3 import PPO\n",
    "from stable_baselines3.common.env_util import make_vec_env\n",
    "# torch.set_default_tensor_type(\"torch.cuda.FloatTensor\")"
   ]
  },
  {
   "cell_type": "code",
   "execution_count": 3,
   "id": "7f655a60",
   "metadata": {},
   "outputs": [],
   "source": [
    "# Visualization\n",
    "import matplotlib\n",
    "import matplotlib.pyplot as plt\n",
    "from tqdm.notebook import trange\n",
    "from IPython import display as ipythondisplay\n",
    "from pyvirtualdisplay import Display\n",
    "from gym.wrappers import Monitor\n",
    "import base64"
   ]
  },
  {
   "cell_type": "code",
   "execution_count": 4,
   "id": "1c480c5b",
   "metadata": {},
   "outputs": [],
   "source": [
    "# IO\n",
    "from pathlib import Path\n",
    "import time"
   ]
  },
  {
   "cell_type": "code",
   "execution_count": 5,
   "id": "8762050f",
   "metadata": {},
   "outputs": [],
   "source": [
    "if 'highway_env' not in sys.modules:\n",
    "    try:\n",
    "        import highway_env\n",
    "    except ImportError:\n",
    "        sys.path.append(r'..')\n",
    "        import highway_env\n",
    "else:\n",
    "    print(\"You've got it!\")"
   ]
  },
  {
   "cell_type": "code",
   "execution_count": 6,
   "id": "6a8eb730",
   "metadata": {},
   "outputs": [],
   "source": [
    "# ==================================\n",
    "#        Main script\n",
    "# =================================="
   ]
  },
  {
   "cell_type": "code",
   "execution_count": 13,
   "id": "f7f51f3c",
   "metadata": {},
   "outputs": [
    {
     "name": "stdout",
     "output_type": "stream",
     "text": [
      "Using cpu device\n",
      "Wrapping the env with a `Monitor` wrapper\n",
      "Wrapping the env in a DummyVecEnv.\n"
     ]
    },
    {
     "name": "stderr",
     "output_type": "stream",
     "text": [
      "..\\highway_env\\vehicle\\dynamics.py:261: VisibleDeprecationWarning: Creating an ndarray from ragged nested sequences (which is a list-or-tuple of lists-or-tuples-or ndarrays with different lengths or shapes) is deprecated. If you meant to do this, you must specify 'dtype=object' when creating the ndarray\n",
      "  self.slip_values = np.array([self.compute_long_slip(self.state[[2,5],0]),\n"
     ]
    },
    {
     "data": {
      "image/png": "[encoded data removed]",
      "text/plain": [
       "<Figure size 432x288 with 6 Axes>"
      ]
     },
     "metadata": {
      "needs_background": "light"
     },
     "output_type": "display_data"
    },
    {
     "data": {
      "image/png": "[encoded data removed]",
      "text/plain": [
       "<Figure size 432x288 with 1 Axes>"
      ]
     },
     "metadata": {
      "needs_background": "light"
     },
     "output_type": "display_data"
    }
   ],
   "source": [
    "if __name__ == \"__main__\":\n",
    "    env = highway_env.envs.collision_env.CollisionEnv()\n",
    "\n",
    "    # Recommended Environment Hypertuning Parameters:\n",
    "    # env.configure({\n",
    "    #     \"duration\": 10,  # [s]\n",
    "    #     \"road_friction\": 1.0,\n",
    "    #     \"stopping_vehicles_count\": 5,\n",
    "    #     \"time_to_intervene\": 2, # [s]\n",
    "    #     \"time_after_collision\": 0, # [s]\n",
    "    #     \"vehicles_density\": 2,\n",
    "    #     \"vehicles_count\": 20,\n",
    "    # })\n",
    "\n",
    "    # Uncomment to check environment with OpenAi Gym:\n",
    "    # check_env(env)\n",
    "\n",
    "    # Uncomment to try training an PPO algorithm on this environemt:\n",
    "    model = PPO(\"MlpPolicy\", env, learning_rate=0.0003, n_steps=2048,\n",
    "                batch_size=64, n_epochs=10,verbose=1)\n",
    "    #model.learn(total_timesteps=25000, )\n",
    "    #model.save(\"ppo_collision\")\n",
    "    model.load(\"ppo_collision\")\n",
    "\n",
    "    obs = env.reset()\n",
    "    env.render()\n",
    "    times = []\n",
    "    model_params = []\n",
    "    rewards = []\n",
    "    velocity = []\n",
    "    forces = []\n",
    "    slips = []\n",
    "    ttc = []\n",
    "    done = False\n",
    "    while not done:\n",
    "        # Use just hard braking (will probably lock the wheel):\n",
    "        action = np.array([-1, 0.0])\n",
    "\n",
    "        # Uncomment to use RL algorithm actions:\n",
    "        action, _states = model.predict(obs)\n",
    "\n",
    "        obs, rew, done, info = env.step(action)\n",
    "        times.append(info[\"time\"])\n",
    "        velocity.append(info[\"speed\"])\n",
    "        forces.append(info[\"tire_forces\"])\n",
    "        slips.append(info[\"slip_values\"])\n",
    "        ttc.append(info[\"ttc\"])\n",
    "        rewards.append(rew)\n",
    "        \n",
    "    env.close()\n",
    "    velocity = np.vstack(velocity)\n",
    "    forces = np.vstack(forces)\n",
    "    slips = np.vstack(slips)\n",
    "    \n",
    "    plt.figure()\n",
    "    plt.subplot(231)\n",
    "    plt.plot(times, velocity[:,0])\n",
    "    plt.title('Long. Vel.')\n",
    "    plt.subplot(232)\n",
    "    plt.plot(times, velocity[:,2])\n",
    "    plt.title('Front Omega')\n",
    "    plt.subplot(233)\n",
    "    plt.plot(times, forces[:,0])\n",
    "    plt.title('Front Fx')\n",
    "    plt.subplot(234)\n",
    "    plt.plot(times, forces[:,1])\n",
    "    plt.title('Front Fy')\n",
    "    plt.subplot(235)\n",
    "    plt.plot(times, slips[:,0])\n",
    "    plt.title('Front kappa')\n",
    "    plt.subplot(236)\n",
    "    plt.plot(times, slips[:,1])\n",
    "    plt.title('Front Alpha')\n",
    "    plt.figure()\n",
    "    plt.plot(times, ttc)\n",
    "    plt.show()"
   ]
  },
  {
   "cell_type": "code",
   "execution_count": null,
   "id": "4612eded",
   "metadata": {},
   "outputs": [],
   "source": []
  },
  {
   "cell_type": "code",
   "execution_count": null,
   "id": "7d5ae4da",
   "metadata": {},
   "outputs": [],
   "source": []
  }
 ],
 "metadata": {
  "kernelspec": {
   "display_name": "Python 3",
   "language": "python",
   "name": "python3"
  },
  "language_info": {
   "codemirror_mode": {
    "name": "ipython",
    "version": 3
   },
   "file_extension": ".py",
   "mimetype": "text/x-python",
   "name": "python",
   "nbconvert_exporter": "python",
   "pygments_lexer": "ipython3",
   "version": "3.8.8"
  }
 },
 "nbformat": 4,
 "nbformat_minor": 5
}
